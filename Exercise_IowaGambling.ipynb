{
 "cells": [
  {
   "cell_type": "markdown",
   "metadata": {},
   "source": [
    "# Exercise 1: Using SpeedyIBL for the Iowa Gambling Task\n",
    "\n",
    "https://www.psytoolkit.org/experiment-library/igt.html\n",
    "\n",
    "In the original paper (Bechera and colleagues, 1994), the following procedure was followed:\n",
    "\n",
    "There were 4 decks of cards (A, B, C, and D)\n",
    "\n",
    "Participants had to choose in total 100 cards, one at the time\n",
    "\n",
    "Each time they choose a card, they get feedback about winning and/or loosing some money\n",
    "\n",
    "Participants did not know what each card would yield in advance (i.e., like a lottery)\n",
    "\n",
    "Participants started with a \"loan\" of $2000 and were told to make a profit\n",
    "\n",
    "Decks A and B always yielded $100\n",
    "\n",
    "Decks C and D always yielded $50\n",
    "\n",
    "For each card chosen, there is a 50% chance of having to pay a penalty as well. For decks A and B, the penalty is $250, whereas for decks C and D it is $50."
   ]
  },
  {
   "cell_type": "code",
   "execution_count": 1,
   "metadata": {},
   "outputs": [],
   "source": [
    "# TODO: Import speedyIBL\n",
    "\n",
    "# TODO: Define an agent\n",
    "\n",
    "# TODO: Deifne the options\n",
    "\n",
    "import random\n",
    "# Define a reward function\n",
    "def reward(choice):\n",
    "    if choice == 'A' or choice =='B':\n",
    "        r = 100\n",
    "        if random.random() <= 0.5:\n",
    "            r -= 250\n",
    "    else:\n",
    "        r = 50\n",
    "        if random.random() <= 0.5:\n",
    "            r -= 50\n",
    "    return r"
   ]
  },
  {
   "cell_type": "code",
   "execution_count": 2,
   "metadata": {},
   "outputs": [],
   "source": [
    "# Run experiments\n",
    "import time # to calculate time\n",
    "runs = 1000 # number of runs (participants)\n",
    "trials = 100 # number of trials (episodes)\n",
    "\n",
    "\n",
    "def run(agent,reward, n_runs,trials):\n",
    "  average_p = [] # to store average of performance (proportion of maximum reward expectation choice)\n",
    "  average_r = []\n",
    "  average_time = [] # to save time \n",
    "  for r in range(n_runs):\n",
    "    pmax = []\n",
    "    rewards = []\n",
    "    ttime = [0]\n",
    "    agent.reset() #clear the memory for a new run\n",
    "    for i in range(trials):     \n",
    "      start = time.time()\n",
    "      # TODO: Agent chooses one option from the list of four options\n",
    "\n",
    "      # determine the reward that agent can receive\n",
    "      re = reward(choice)\n",
    "      # store the instance\n",
    "      # TODO: Store the instance\n",
    "\n",
    "      end = time.time()\n",
    "      ttime.append(ttime[-1]+ end - start)\n",
    "      pmax.append(choice == 'C' or choice == 'D') \n",
    "      rewards.append(re)\n",
    "    average_p.append(pmax) # save performance of each run \n",
    "    average_r.append(rewards)\n",
    "    average_time.append(ttime) # save time of each run \n",
    "  return average_r, average_p"
   ]
  },
  {
   "cell_type": "code",
   "execution_count": 3,
   "metadata": {},
   "outputs": [
    {
     "name": "stderr",
     "output_type": "stream",
     "text": [
      "/var/folders/cz/5r_mds0535s4pyx9l0hbzkfh0000gn/T/ipykernel_2687/199378163.py:4: UserWarning: linestyle is redundantly defined by the 'linestyle' keyword argument and the fmt string \"o-\" (-> linestyle='-'). The keyword argument will take precedence.\n",
      "  plt.plot(range(trials), np.mean(np.asarray(average_p),axis=0), 'o-', color='darkgreen', markersize=2, linestyle='--', label='speedyIBL')\n"
     ]
    },
    {
     "data": {
      "image/png": "[encoded data removed]",
      "text/plain": [
       "<Figure size 432x288 with 1 Axes>"
      ]
     },
     "metadata": {
      "needs_background": "light"
     },
     "output_type": "display_data"
    }
   ],
   "source": [
    "average_r, average_p = run(agent, reward, runs, trials)\n",
    "import matplotlib.pyplot as plt\n",
    "import numpy as np \n",
    "plt.plot(range(trials), np.mean(np.asarray(average_p),axis=0), 'o-', color='darkgreen', markersize=2, linestyle='--', label='speedyIBL')\n",
    "plt.xlabel('Round')\n",
    "plt.ylabel('PMAX')\n",
    "plt.title('Performance')\n",
    "plt.legend()\n",
    "plt.grid(True)\n",
    "plt.show()"
   ]
  },
  {
   "cell_type": "code",
   "execution_count": null,
   "metadata": {},
   "outputs": [],
   "source": [
    "import matplotlib.pyplot as plt\n",
    "import numpy as np \n",
    "plt.plot(range(trials), np.mean(np.asarray(average_r),axis=0), 'o-', color='darkgreen', markersize=2, linestyle='--', label='speedyIBL')\n",
    "plt.xlabel('Round')\n",
    "plt.ylabel('Average reward')\n",
    "plt.title('Performance')\n",
    "plt.legend()\n",
    "plt.grid(True)\n",
    "plt.show()"
   ]
  },
  {
   "cell_type": "code",
   "execution_count": null,
   "metadata": {},
   "outputs": [],
   "source": [
    "agent.default_utility = 10 \n",
    "average_r, average_p = run(agent,reward, runs,trials)\n",
    "\n",
    "import matplotlib.pyplot as plt\n",
    "import numpy as np \n",
    "plt.plot(range(trials), np.mean(np.asarray(average_p),axis=0), 'o-', color='darkgreen', markersize=2, linestyle='--', label='speedyIBL')\n",
    "plt.xlabel('Round')\n",
    "plt.ylabel('PMAX')\n",
    "plt.title('Performance')\n",
    "plt.legend()\n",
    "plt.grid(True)\n",
    "plt.show()"
   ]
  },
  {
   "cell_type": "code",
   "execution_count": null,
   "metadata": {},
   "outputs": [],
   "source": [
    "import matplotlib.pyplot as plt\n",
    "import numpy as np \n",
    "plt.plot(range(trials), np.mean(np.asarray(average_r),axis=0), 'o-', color='darkgreen', markersize=2, linestyle='--', label='speedyIBL')\n",
    "plt.xlabel('Round')\n",
    "plt.ylabel('Average reward')\n",
    "plt.title('Performance')\n",
    "plt.legend()\n",
    "plt.grid(True)\n",
    "plt.show()"
   ]
  }
 ],
 "metadata": {
  "interpreter": {
   "hash": "aee8b7b246df8f9039afb4144a1f6fd8d2ca17a180786b69acc140d282b71a49"
  },
  "kernelspec": {
   "display_name": "Python 3.9.9 64-bit",
   "language": "python",
   "name": "python3"
  },
  "language_info": {
   "codemirror_mode": {
    "name": "ipython",
    "version": 3
   },
   "file_extension": ".py",
   "mimetype": "text/x-python",
   "name": "python",
   "nbconvert_exporter": "python",
   "pygments_lexer": "ipython3",
   "version": "3.9.9"
  },
  "orig_nbformat": 4
 },
 "nbformat": 4,
 "nbformat_minor": 2
}
