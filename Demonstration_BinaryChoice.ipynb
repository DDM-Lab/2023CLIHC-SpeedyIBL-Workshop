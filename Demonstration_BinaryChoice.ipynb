{
 "cells": [
  {
   "cell_type": "markdown",
   "metadata": {},
   "source": [
    "# Using SpeedyIBL for binary choice task\n",
    "\n",
    "From the list of inputs of the class Agent, although we need 5 inputs to create an IBL agent, by using the defaults for noise, decay, mismatchPenalty, and lendeque, we only need to pass the default_utility = 4.4. Hence we create an IBL agent for the binary choice task as follows:"
   ]
  },
  {
   "cell_type": "code",
   "execution_count": 1,
   "metadata": {},
   "outputs": [
    {
     "ename": "ModuleNotFoundError",
     "evalue": "No module named 'speedyibl'",
     "output_type": "error",
     "traceback": [
      "\u001b[0;31m---------------------------------------------------------------------------\u001b[0m",
      "\u001b[0;31mModuleNotFoundError\u001b[0m                       Traceback (most recent call last)",
      "Cell \u001b[0;32mIn[1], line 1\u001b[0m\n\u001b[0;32m----> 1\u001b[0m \u001b[39mfrom\u001b[39;00m \u001b[39mspeedyibl\u001b[39;00m \u001b[39mimport\u001b[39;00m Agent \n",
      "\u001b[0;31mModuleNotFoundError\u001b[0m: No module named 'speedyibl'"
     ]
    }
   ],
   "source": [
    "from speedyibl import Agent "
   ]
  },
  {
   "cell_type": "code",
   "execution_count": null,
   "metadata": {},
   "outputs": [],
   "source": [
    "agent = Agent(default_utility=4.4)"
   ]
  },
  {
   "cell_type": "markdown",
   "metadata": {},
   "source": [
    "We then define a list of options for the agent to choose:"
   ]
  },
  {
   "cell_type": "code",
   "execution_count": null,
   "metadata": {},
   "outputs": [],
   "source": [
    "options = ['A','B'] # A is the safe option while B is the risky one"
   ]
  },
  {
   "cell_type": "markdown",
   "metadata": {},
   "source": [
    "We are ready to make the agent choose one of the two options"
   ]
  },
  {
   "cell_type": "code",
   "execution_count": null,
   "metadata": {},
   "outputs": [],
   "source": [
    "choice = agent.choose(options)"
   ]
  },
  {
   "cell_type": "markdown",
   "metadata": {},
   "source": [
    "We now determine a reward that the agent can receive after choosing one option."
   ]
  },
  {
   "cell_type": "code",
   "execution_count": null,
   "metadata": {},
   "outputs": [],
   "source": [
    "import random \n",
    "def reward(choice):\n",
    "  if choice == 'A':\n",
    "    r = 3\n",
    "  elif random.random() <= 0.8:\n",
    "    r = 4\n",
    "  else:\n",
    "    r = 0\n",
    "  return r"
   ]
  },
  {
   "cell_type": "markdown",
   "metadata": {},
   "source": [
    "After choosing one option and observing the reward, we use the function respond, see the table above, to store the instance in the memory as follows:"
   ]
  },
  {
   "cell_type": "code",
   "execution_count": null,
   "metadata": {},
   "outputs": [
    {
     "name": "stdout",
     "output_type": "stream",
     "text": [
      "A\n",
      "3\n"
     ]
    }
   ],
   "source": [
    "print(choice)\n",
    "r = reward(choice)\n",
    "print(r)\n",
    "agent.respond(r)"
   ]
  },
  {
   "cell_type": "code",
   "execution_count": null,
   "metadata": {},
   "outputs": [
    {
     "name": "stdout",
     "output_type": "stream",
     "text": [
      "option      outcome  occurences\n",
      "--------  ---------  ------------\n",
      "A               3    [1, 1, 1]\n",
      "A               4.4  [0]\n",
      "B               0    [2]\n",
      "B               4.4  [0]\n"
     ]
    }
   ],
   "source": [
    "agent.instances()"
   ]
  },
  {
   "cell_type": "markdown",
   "metadata": {},
   "source": [
    "Compute activation, probability, and blended values"
   ]
  },
  {
   "cell_type": "code",
   "execution_count": null,
   "metadata": {},
   "outputs": [
    {
     "name": "stdout",
     "output_type": "stream",
     "text": [
      "(array([1.16654394, 0.34907702]), array([3. , 4.4]))\n",
      "(array([0.91137884, 0.08862116]), array([3. , 4.4]))\n",
      "(array([-0.54904816]), array([4.4]))\n",
      "(array([1.]), array([4.4]))\n",
      "[(3.0214688324777152, 0), (4.4, 1)]\n"
     ]
    }
   ],
   "source": [
    "print(agent.CompActivation(agent.t+1,'A'))\n",
    "print(agent.CompProbability(agent.t+1,'A'))\n",
    "print(agent.CompActivation(agent.t+1,'B'))\n",
    "print(agent.CompProbability(agent.t+1,'B'))\n",
    "print(agent.CompBlended(agent.t+1,options))"
   ]
  },
  {
   "cell_type": "code",
   "execution_count": null,
   "metadata": {},
   "outputs": [],
   "source": [
    "choice = agent.choose(options)"
   ]
  },
  {
   "cell_type": "code",
   "execution_count": null,
   "metadata": {},
   "outputs": [
    {
     "name": "stdout",
     "output_type": "stream",
     "text": [
      "B\n",
      "0\n",
      "option      outcome  occurences\n",
      "--------  ---------  ------------\n",
      "A               3    [1, 1, 1]\n",
      "A               4.4  [0]\n",
      "B               0    [2]\n",
      "B               4.4  [0]\n"
     ]
    }
   ],
   "source": [
    "print(choice)\n",
    "r = reward(choice)\n",
    "print(r)\n",
    "agent.respond(r)\n",
    "agent.instances()"
   ]
  },
  {
   "cell_type": "markdown",
   "metadata": {},
   "source": [
    "We have run one trial for the binary choice task, which includes choosing one option, observing the reward, storing the instance (respond). To conduct 1000 runs of 100 trials, we use two for loops as follows:"
   ]
  },
  {
   "cell_type": "code",
   "execution_count": null,
   "metadata": {},
   "outputs": [],
   "source": [
    "import time # to calculate time\n",
    "runs = 1000 # number of runs (participants)\n",
    "trials = 100 # number of trials (episodes)\n",
    "average_p = [] # to store average of performance (proportion of maximum reward expectation choice)\n",
    "average_time = [] # to save time \n",
    "for r in range(runs):\n",
    "  pmax = []\n",
    "  ttime = [0]\n",
    "  agent.reset() #clear the memory for a new run\n",
    "  for i in range(trials):     \n",
    "    start = time.time()\n",
    "    choice = agent.choose(options) # choose one option from the list of two\n",
    "    # determine the reward that agent can receive\n",
    "    r = reward(choice)\n",
    "    # store the instance\n",
    "    agent.respond(r)\n",
    "    end = time.time()\n",
    "    ttime.append(ttime[-1]+ end - start)\n",
    "    pmax.append(choice == 'B') \n",
    "  average_p.append(pmax) # save performance of each run \n",
    "  average_time.append(ttime) # save time of each run "
   ]
  },
  {
   "cell_type": "markdown",
   "metadata": {},
   "source": [
    "We also provide the following code to plot the running time and performance of this SpeedyIBL agent"
   ]
  },
  {
   "cell_type": "code",
   "execution_count": null,
   "metadata": {},
   "outputs": [
    {
     "name": "stderr",
     "output_type": "stream",
     "text": [
      "/var/folders/cz/5r_mds0535s4pyx9l0hbzkfh0000gn/T/ipykernel_6895/1455563722.py:3: UserWarning: linestyle is redundantly defined by the 'linestyle' keyword argument and the fmt string \"o-\" (-> linestyle='-'). The keyword argument will take precedence.\n",
      "  plt.plot(range(trials), np.mean(np.asarray(average_p),axis=0), 'o-', color='darkgreen', markersize=2, linestyle='--', label='speedyIBL')\n"
     ]
    },
    {
     "data": {
      "image/png": "[encoded data removed]",
      "text/plain": [
       "<Figure size 432x288 with 1 Axes>"
      ]
     },
     "metadata": {
      "needs_background": "light"
     },
     "output_type": "display_data"
    }
   ],
   "source": [
    "import matplotlib.pyplot as plt\n",
    "import numpy as np \n",
    "plt.plot(range(trials), np.mean(np.asarray(average_p),axis=0), 'o-', color='darkgreen', markersize=2, linestyle='--', label='speedyIBL')\n",
    "plt.xlabel('Round')\n",
    "plt.ylabel('PMAX')\n",
    "plt.title('Performance')\n",
    "plt.legend()\n",
    "plt.grid(True)\n",
    "plt.show()"
   ]
  },
  {
   "cell_type": "code",
   "execution_count": null,
   "metadata": {},
   "outputs": [],
   "source": []
  }
 ],
 "metadata": {
  "interpreter": {
   "hash": "aee8b7b246df8f9039afb4144a1f6fd8d2ca17a180786b69acc140d282b71a49"
  },
  "kernelspec": {
   "display_name": "Python 3.9.9 64-bit",
   "language": "python",
   "name": "python3"
  },
  "language_info": {
   "codemirror_mode": {
    "name": "ipython",
    "version": 3
   },
   "file_extension": ".py",
   "mimetype": "text/x-python",
   "name": "python",
   "nbconvert_exporter": "python",
   "pygments_lexer": "ipython3",
   "version": "3.9.6"
  },
  "orig_nbformat": 4
 },
 "nbformat": 4,
 "nbformat_minor": 2
}
