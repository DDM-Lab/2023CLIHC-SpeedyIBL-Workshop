{
  "cells": [
    {
      "cell_type": "markdown",
      "metadata": {
        "colab_type": "text",
        "id": "view-in-github"
      },
      "source": [
        "<a href=\"https://colab.research.google.com/github/erinbugbee/2023CLIHC-SpeedyIBL-Workshop/blob/main/Demonstration_BinaryChoice.ipynb\" target=\"_parent\"><img src=\"https://colab.research.google.com/assets/colab-badge.svg\" alt=\"Open In Colab\"/></a>"
      ]
    },
    {
      "cell_type": "markdown",
      "metadata": {
        "id": "BM0JstlY6m9v"
      },
      "source": [
        "# Using SpeedyIBL for binary choice task\n",
        "\n",
        "From the list of inputs of the class Agent, although we need 5 inputs to create an IBL agent, by using the defaults for noise, decay, mismatchPenalty, and lendeque, we only need to pass the default_utility = 4.4. Hence we create an IBL agent for the binary choice task as follows:"
      ]
    },
    {
      "cell_type": "code",
      "execution_count": 1,
      "metadata": {
        "colab": {
          "base_uri": "https://localhost:8080/"
        },
        "id": "kIeVhUK_6m9x",
        "outputId": "c4e858d6-1be2-4fbc-c394-a194a66da7e3"
      },
      "outputs": [
        {
          "name": "stdout",
          "output_type": "stream",
          "text": [
            "Collecting speedyibl\n",
            "  Downloading speedyibl-0.2.3-py3-none-any.whl (13 kB)\n",
            "Requirement already satisfied: setuptools>=42 in /usr/local/lib/python3.10/dist-packages (from speedyibl) (67.7.2)\n",
            "Requirement already satisfied: wheel in /usr/local/lib/python3.10/dist-packages (from speedyibl) (0.41.2)\n",
            "Requirement already satisfied: numpy in /usr/local/lib/python3.10/dist-packages (from speedyibl) (1.23.5)\n",
            "Requirement already satisfied: tabulate in /usr/local/lib/python3.10/dist-packages (from speedyibl) (0.9.0)\n",
            "Installing collected packages: speedyibl\n",
            "Successfully installed speedyibl-0.2.3\n"
          ]
        }
      ],
      "source": [
        "%pip install -U speedyibl\n",
        "from speedyibl import Agent"
      ]
    },
    {
      "cell_type": "code",
      "execution_count": 2,
      "metadata": {
        "id": "ydkkGPn56m9z"
      },
      "outputs": [],
      "source": [
        "agent = Agent(default_utility=4.4)"
      ]
    },
    {
      "cell_type": "markdown",
      "metadata": {
        "id": "sjt3c9CI6m9z"
      },
      "source": [
        "We then define a list of options for the agent to choose:"
      ]
    },
    {
      "cell_type": "code",
      "execution_count": 3,
      "metadata": {
        "id": "IhnDsRu-6m90"
      },
      "outputs": [],
      "source": [
        "options = ['A','B'] # A is the safe option while B is the risky one"
      ]
    },
    {
      "cell_type": "markdown",
      "metadata": {
        "id": "8PGxKEqu6m90"
      },
      "source": [
        "We are ready to make the agent choose one of the two options"
      ]
    },
    {
      "cell_type": "code",
      "execution_count": 4,
      "metadata": {
        "id": "E4yUV0L_6m90"
      },
      "outputs": [],
      "source": [
        "choice = agent.choose(options)"
      ]
    },
    {
      "cell_type": "markdown",
      "metadata": {
        "id": "NtbbXX7j6m91"
      },
      "source": [
        "We now determine a reward that the agent can receive after choosing one option."
      ]
    },
    {
      "cell_type": "code",
      "execution_count": 5,
      "metadata": {
        "id": "wGMWEXUt6m92"
      },
      "outputs": [],
      "source": [
        "import random\n",
        "def reward(choice):\n",
        "  if choice == 'A':\n",
        "    r = 3\n",
        "  elif random.random() <= 0.8:\n",
        "    r = 4\n",
        "  else:\n",
        "    r = 0\n",
        "  return r"
      ]
    },
    {
      "cell_type": "markdown",
      "metadata": {
        "id": "cx24LB5r6m92"
      },
      "source": [
        "After choosing one option and observing the reward, we use the function respond, see the table above, to store the instance in the memory as follows:"
      ]
    },
    {
      "cell_type": "code",
      "execution_count": 6,
      "metadata": {
        "colab": {
          "base_uri": "https://localhost:8080/"
        },
        "id": "tgxJBWNP6m93",
        "outputId": "aa3d5ae4-f96f-47cb-9bc0-31a889349065"
      },
      "outputs": [
        {
          "name": "stdout",
          "output_type": "stream",
          "text": [
            "A\n",
            "3\n"
          ]
        }
      ],
      "source": [
        "print(choice)\n",
        "r = reward(choice)\n",
        "print(r)\n",
        "agent.respond(r)"
      ]
    },
    {
      "cell_type": "code",
      "execution_count": 7,
      "metadata": {
        "colab": {
          "base_uri": "https://localhost:8080/"
        },
        "id": "bQmzY3fD6m93",
        "outputId": "f06878dd-6e69-41cd-c7ac-5f25161c99e6"
      },
      "outputs": [
        {
          "name": "stdout",
          "output_type": "stream",
          "text": [
            "option      outcome  occurences\n",
            "--------  ---------  ------------\n",
            "A               3    [1]\n",
            "A               4.4  [0]\n"
          ]
        }
      ],
      "source": [
        "agent.instances()"
      ]
    },
    {
      "cell_type": "markdown",
      "metadata": {
        "id": "rJUdW_bq6m93"
      },
      "source": [
        "Compute activation, probability, and blended values"
      ]
    },
    {
      "cell_type": "code",
      "execution_count": 8,
      "metadata": {
        "colab": {
          "base_uri": "https://localhost:8080/"
        },
        "id": "iWN4Zq1G6m94",
        "outputId": "273e32c4-eb41-454f-801f-a97d9332a2e5"
      },
      "outputs": [
        {
          "name": "stdout",
          "output_type": "stream",
          "text": [
            "(array([0.34281664, 0.24122225]), array([3. , 4.4]))\n",
            "(array([0.96365311, 0.03634689]), array([3. , 4.4]))\n",
            "(array([-0.36995767]), array([4.4]))\n",
            "(array([1.]), array([4.4]))\n",
            "[(3.3396258477324645, 0), (4.4, 1)]\n"
          ]
        }
      ],
      "source": [
        "print(agent.CompActivation(agent.t+1,'A'))\n",
        "print(agent.CompProbability(agent.t+1,'A'))\n",
        "print(agent.CompActivation(agent.t+1,'B'))\n",
        "print(agent.CompProbability(agent.t+1,'B'))\n",
        "print(agent.CompBlended(agent.t+1,options))"
      ]
    },
    {
      "cell_type": "code",
      "execution_count": 9,
      "metadata": {
        "id": "irttHQjY6m94"
      },
      "outputs": [],
      "source": [
        "choice = agent.choose(options)"
      ]
    },
    {
      "cell_type": "code",
      "execution_count": 10,
      "metadata": {
        "colab": {
          "base_uri": "https://localhost:8080/"
        },
        "id": "vextTDUd6m94",
        "outputId": "ac1cbba4-fa75-4044-96bf-e696b83c6f80"
      },
      "outputs": [
        {
          "name": "stdout",
          "output_type": "stream",
          "text": [
            "B\n",
            "4\n",
            "option      outcome  occurences\n",
            "--------  ---------  ------------\n",
            "A               3    [1]\n",
            "A               4.4  [0]\n",
            "B               4    [2]\n",
            "B               4.4  [0]\n"
          ]
        }
      ],
      "source": [
        "print(choice)\n",
        "r = reward(choice)\n",
        "print(r)\n",
        "agent.respond(r)\n",
        "agent.instances()"
      ]
    },
    {
      "cell_type": "markdown",
      "metadata": {
        "id": "DPYMpIHY6m95"
      },
      "source": [
        "We have run one trial for the binary choice task, which includes choosing one option, observing the reward, storing the instance (respond). To conduct 1000 runs of 100 trials, we use two for loops as follows:"
      ]
    },
    {
      "cell_type": "code",
      "execution_count": 11,
      "metadata": {
        "id": "PnmujEZp6m95"
      },
      "outputs": [],
      "source": [
        "import time # to calculate time\n",
        "runs = 1000 # number of runs (participants)\n",
        "trials = 100 # number of trials (episodes)\n",
        "average_p = [] # to store average of performance (proportion of maximum reward expectation choice)\n",
        "average_time = [] # to save time\n",
        "for r in range(runs):\n",
        "  pmax = []\n",
        "  ttime = [0]\n",
        "  agent.reset() #clear the memory for a new run\n",
        "  for i in range(trials):\n",
        "    start = time.time()\n",
        "    choice = agent.choose(options) # choose one option from the list of two\n",
        "    # determine the reward that agent can receive\n",
        "    r = reward(choice)\n",
        "    # store the instance\n",
        "    agent.respond(r)\n",
        "    end = time.time()\n",
        "    ttime.append(ttime[-1]+ end - start)\n",
        "    pmax.append(choice == 'B')\n",
        "  average_p.append(pmax) # save performance of each run\n",
        "  average_time.append(ttime) # save time of each run"
      ]
    },
    {
      "cell_type": "markdown",
      "metadata": {
        "id": "CXQI7kXE6m95"
      },
      "source": [
        "We also provide the following code to plot the running time and performance of this SpeedyIBL agent"
      ]
    },
    {
      "cell_type": "code",
      "execution_count": 12,
      "metadata": {
        "colab": {
          "base_uri": "https://localhost:8080/",
          "height": 526
        },
        "id": "S4Kj1BYh6m96",
        "outputId": "06c577bd-06aa-4f2f-8efc-3f846ff3a863"
      },
      "outputs": [
        {
          "name": "stderr",
          "output_type": "stream",
          "text": [
            "<ipython-input-12-6e8945062da0>:3: UserWarning: linestyle is redundantly defined by the 'linestyle' keyword argument and the fmt string \"o-\" (-> linestyle='-'). The keyword argument will take precedence.\n",
            "  plt.plot(range(trials), np.mean(np.asarray(average_p),axis=0), 'o-', color='darkgreen', markersize=2, linestyle='--', label='speedyIBL')\n"
          ]
        },
        {
          "data": {
            "image/png": "[encoded data removed]",
            "text/plain": [
              "<Figure size 640x480 with 1 Axes>"
            ]
          },
          "metadata": {},
          "output_type": "display_data"
        }
      ],
      "source": [
        "import matplotlib.pyplot as plt\n",
        "import numpy as np\n",
        "plt.plot(range(trials), np.mean(np.asarray(average_p),axis=0), 'o-', color='darkgreen', markersize=2, linestyle='--', label='speedyIBL')\n",
        "plt.xlabel('Round')\n",
        "plt.ylabel('PMAX')\n",
        "plt.title('Performance')\n",
        "plt.legend()\n",
        "plt.grid(True)\n",
        "plt.show()"
      ]
    }
  ],
  "metadata": {
    "colab": {
      "include_colab_link": true,
      "provenance": []
    },
    "interpreter": {
      "hash": "aee8b7b246df8f9039afb4144a1f6fd8d2ca17a180786b69acc140d282b71a49"
    },
    "kernelspec": {
      "display_name": "Python 3.9.9 64-bit",
      "language": "python",
      "name": "python3"
    },
    "language_info": {
      "codemirror_mode": {
        "name": "ipython",
        "version": 3
      },
      "file_extension": ".py",
      "mimetype": "text/x-python",
      "name": "python",
      "nbconvert_exporter": "python",
      "pygments_lexer": "ipython3",
      "version": "3.9.6"
    },
    "orig_nbformat": 4
  },
  "nbformat": 4,
  "nbformat_minor": 0
}
