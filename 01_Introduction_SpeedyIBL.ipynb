{
  "cells": [
    {
      "cell_type": "markdown",
      "metadata": {
        "colab_type": "text",
        "id": "view-in-github"
      },
      "source": [
        "<a href=\"https://colab.research.google.com/github/DDM-Lab/2023CLIHC-SpeedyIBL-Workshop/blob/main/01_Introduction_SpeedyIBL.ipynb\" target=\"_parent\"><img src=\"https://colab.research.google.com/assets/colab-badge.svg\" alt=\"Open In Colab\"/></a>"
      ]
    },
    {
      "cell_type": "markdown",
      "metadata": {
        "id": "GsvrA74i7q1z"
      },
      "source": [
        "## Installing SpeedyIBL\n",
        "`speedyibl` library is a Python module, which is stored at PyPI (pypi.org), a repository of software for the Python programming language, see https://pypi.org/project/speedyibl/. One can install `speedyibl` by using the following command line:"
      ]
    },
    {
      "cell_type": "code",
      "execution_count": 1,
      "metadata": {
        "colab": {
          "base_uri": "https://localhost:8080/"
        },
        "id": "ZPMfF7xF7q1z",
        "outputId": "b294465a-89c4-4aeb-92af-ae2e7e28b91b"
      },
      "outputs": [
        {
          "name": "stdout",
          "output_type": "stream",
          "text": [
            "Defaulting to user installation because normal site-packages is not writeable\n",
            "Requirement already satisfied: speedyibl in /Users/erinbugbee/Library/Python/3.9/lib/python/site-packages (0.2.3)\n",
            "Requirement already satisfied: setuptools>=42 in /Library/Developer/CommandLineTools/Library/Frameworks/Python3.framework/Versions/3.9/lib/python3.9/site-packages (from speedyibl) (58.0.4)\n",
            "Requirement already satisfied: wheel in /Library/Developer/CommandLineTools/Library/Frameworks/Python3.framework/Versions/3.9/lib/python3.9/site-packages (from speedyibl) (0.37.0)\n",
            "Requirement already satisfied: numpy in /Users/erinbugbee/Library/Python/3.9/lib/python/site-packages (from speedyibl) (1.24.3)\n",
            "Requirement already satisfied: tabulate in /Users/erinbugbee/Library/Python/3.9/lib/python/site-packages (from speedyibl) (0.9.0)\n",
            "\n",
            "\u001b[1m[\u001b[0m\u001b[34;49mnotice\u001b[0m\u001b[1;39;49m]\u001b[0m\u001b[39;49m A new release of pip is available: \u001b[0m\u001b[31;49m23.2.1\u001b[0m\u001b[39;49m -> \u001b[0m\u001b[32;49m23.3.1\u001b[0m\n",
            "\u001b[1m[\u001b[0m\u001b[34;49mnotice\u001b[0m\u001b[1;39;49m]\u001b[0m\u001b[39;49m To update, run: \u001b[0m\u001b[32;49m/Library/Developer/CommandLineTools/usr/bin/python3 -m pip install --upgrade pip\u001b[0m\n",
            "Note: you may need to restart the kernel to use updated packages.\n"
          ]
        }
      ],
      "source": [
        "%pip install -U speedyibl"
      ]
    },
    {
      "cell_type": "markdown",
      "metadata": {
        "id": "NhZtS6b27q10"
      },
      "source": [
        "# Importing and describing the class Agent of SpeedyIBL\n",
        "\n",
        "After installing the library, we need to import the class Agent of SpeedyIBL by typing:"
      ]
    },
    {
      "cell_type": "code",
      "execution_count": 2,
      "metadata": {
        "id": "HLFaqntU7q10"
      },
      "outputs": [],
      "source": [
        "from speedyibl import Agent"
      ]
    },
    {
      "cell_type": "markdown",
      "metadata": {},
      "source": [
        "To view a list of attributes/inputs of the class Agent:\n"
      ]
    },
    {
      "cell_type": "code",
      "execution_count": 3,
      "metadata": {},
      "outputs": [
        {
          "name": "stdout",
          "output_type": "stream",
          "text": [
            "Help on function __init__ in module speedyibl.speedyibl:\n",
            "\n",
            "__init__(self, default_utility=0.1, noise=0.25, decay=0.5, mismatchPenalty=None, outcome=True, lendeque=250000)\n",
            "    Initialize self.  See help(type(self)) for accurate signature.\n",
            "\n"
          ]
        }
      ],
      "source": [
        "help(Agent.__init__)"
      ]
    },
    {
      "cell_type": "markdown",
      "metadata": {},
      "source": [
        "To display a list of functions/methods of the class Agent: "
      ]
    },
    {
      "cell_type": "code",
      "execution_count": 4,
      "metadata": {},
      "outputs": [
        {
          "data": {
            "text/plain": [
              "mappingproxy({'__module__': 'speedyibl.speedyibl',\n",
              "              'mkid': 0,\n",
              "              '__init__': <function speedyibl.speedyibl.Agent.__init__(self, default_utility=0.1, noise=0.25, decay=0.5, mismatchPenalty=None, outcome=True, lendeque=250000)>,\n",
              "              'respond': <function speedyibl.speedyibl.Agent.respond(self, reward=None)>,\n",
              "              'populate_at': <function speedyibl.speedyibl.Agent.populate_at(self, option, t, reward=None)>,\n",
              "              'make_noise': <function speedyibl.speedyibl.Agent.make_noise(self)>,\n",
              "              'choose': <function speedyibl.speedyibl.Agent.choose(self, options, base=None)>,\n",
              "              'reset': <function speedyibl.speedyibl.Agent.reset(self)>,\n",
              "              'instances': <function speedyibl.speedyibl.Agent.instances(self)>,\n",
              "              'prepopulate': <function speedyibl.speedyibl.Agent.prepopulate(self, option, reward=None)>,\n",
              "              'similarity': <function speedyibl.speedyibl.Agent.similarity(self, attributes, function)>,\n",
              "              'get_similarity': <function speedyibl.speedyibl.Agent.get_similarity(self, option, option2=None)>,\n",
              "              'equal_delay_feedback': <function speedyibl.speedyibl.Agent.equal_delay_feedback(self, reward, episode_history)>,\n",
              "              'CompActivation': <function speedyibl.speedyibl.Agent.CompActivation(self, t, o, base=None)>,\n",
              "              'CompProbability': <function speedyibl.speedyibl.Agent.CompProbability(self, t, o, base=None)>,\n",
              "              'CompBlended': <function speedyibl.speedyibl.Agent.CompBlended(self, t, options, base=None)>,\n",
              "              '__dict__': <attribute '__dict__' of 'Agent' objects>,\n",
              "              '__weakref__': <attribute '__weakref__' of 'Agent' objects>,\n",
              "              '__doc__': None})"
            ]
          },
          "execution_count": 4,
          "metadata": {},
          "output_type": "execute_result"
        }
      ],
      "source": [
        "vars(Agent)\n",
        "# dir(Agent)"
      ]
    },
    {
      "cell_type": "markdown",
      "metadata": {
        "id": "j7ISA1Kc7q10"
      },
      "source": [
        "We provide the descriptions of the inputs and main functions of the class Agent in the following tables.\n",
        "\n",
        "```markdown\n",
        "Inputs         | Type          | Description\n",
        "---------------|---------------|-------------------------------------------------------\n",
        "default_utility | float         | initial utility value for each instance, default = 0.1\n",
        "noise          | float         | noise parameter sigma, default  = 0.25\n",
        "decay          | float         |  decay paremeter d, default = 0.5\n",
        "mismatchPenalty| None or float | mismatch penalty parameter, default = None (without partial matching process)\n",
        "lendeque       | None or int   | maximum size of a deque for each instance that contains\n",
        "                                 timestamps or  None if unbounded, default = 250000\n",
        "------------------------------------------------------------------------------------------\n",
        "\n",
        "Inputs               | Type                      | Description\n",
        "---------------------|---------------------------|-----------------------------------------\n",
        "choose               | list of options           | choose one option from the given list of options\n",
        "respond              | reward                    | add the current timestamp to the instance\n",
        "                                                   of the last option and this reward\n",
        "prepopulate          | option, reward            | initialize time 0 for the instance of this option and reward\n",
        "populate_at          | option, reward, time      | add time to the instance of this option and reward\n",
        "equal_delay_feedback | reward, list of instances | update instances in the list by using this reward\n",
        "instances            | no input                  | show all the instances in the memory\n",
        "CompActivation       | time, option, base        | compute activation of an option at time t\n",
        "CompProbability      | time, option, base        | compute probabilities of an option at time t\n",
        "CompBlended          | time, options, base       | compute blended values of options at time t\n",
        "-------------------------------------------------------------------------------------------\n",
        "\n",
        "```"
      ]
    },
    {
      "cell_type": "markdown",
      "metadata": {},
      "source": [
        "## References\n",
        "<b id=\"f1\">[1]</b> Cleotilde Gonzalez, Javier F. Lerch and Christian Lebiere (2003), [Instance-based learning in dynamic decision making](https://www.sciencedirect.com/science/article/abs/pii/S0364021303000314), Cognitive Science, 27, 591-635. DOI: 10.1016/S0364-0213(03)00031-4.\n",
        "\n",
        "<b id=\"f2\">[2]</b> Thuy Ngoc Nguyen, Duy Nhat Phan, Cleotilde Gonzalez (2021), [SpeedyIBL: A Comprehensive, Precise, and Fast Implementation of\n",
        "Instance-Based Learning Theory](https://pypi.org/project/speedyibl/)"
      ]
    }
  ],
  "metadata": {
    "colab": {
      "include_colab_link": true,
      "provenance": []
    },
    "kernelspec": {
      "display_name": "Python 3",
      "name": "python3"
    },
    "language_info": {
      "codemirror_mode": {
        "name": "ipython",
        "version": 3
      },
      "file_extension": ".py",
      "mimetype": "text/x-python",
      "name": "python",
      "nbconvert_exporter": "python",
      "pygments_lexer": "ipython3",
      "version": "3.9.6"
    },
    "orig_nbformat": 4
  },
  "nbformat": 4,
  "nbformat_minor": 0
}
