{
  "cells": [
    {
      "cell_type": "markdown",
      "metadata": {
        "id": "view-in-github",
        "colab_type": "text"
      },
      "source": [
        "<a href=\"https://colab.research.google.com/github/erinbugbee/2023CLIHC-SpeedyIBL-Workshop/blob/main/Introduction_SpeedyIBL.ipynb\" target=\"_parent\"><img src=\"https://colab.research.google.com/assets/colab-badge.svg\" alt=\"Open In Colab\"/></a>"
      ]
    },
    {
      "cell_type": "markdown",
      "metadata": {
        "id": "pOuGO4RI7q1x"
      },
      "source": [
        "## References\n",
        "<b id=\"f1\">[1]</b> Cleotilde Gonzalez, Javier F. Lerch and Christian Lebiere (2003), [Instance-based learning in dynamic decision making](https://www.sciencedirect.com/science/article/abs/pii/S0364021303000314), Cognitive Science, 27, 591-635. DOI: 10.1016/S0364-0213(03)00031-4.\n",
        "\n",
        "<b id=\"f2\">[2]</b> Thuy Ngoc Nguyen, Duy Nhat Phan, Cleotilde Gonzalez (2021), [SpeedyIBL: A Comprehensive, Precise, and Fast Implementation of\n",
        "Instance-Based Learning Theory](https://pypi.org/project/speedyibl/)"
      ]
    },
    {
      "cell_type": "markdown",
      "metadata": {
        "id": "GsvrA74i7q1z"
      },
      "source": [
        "## Installing SpeedyIBL\n",
        "Note that the speedyibl library is a Python module, which is stored at PyPI (pypi.org), a repository of software for the Python programming language, see https://pypi.org/project/speedyibl/. Hence, installing SpeedyIBL is a very simple process. Indeed, one can install SpeedyIBL by simply typing at the command line:\n"
      ]
    },
    {
      "cell_type": "code",
      "execution_count": 1,
      "metadata": {
        "id": "ZPMfF7xF7q1z",
        "outputId": "b294465a-89c4-4aeb-92af-ae2e7e28b91b",
        "colab": {
          "base_uri": "https://localhost:8080/"
        }
      },
      "outputs": [
        {
          "output_type": "stream",
          "name": "stdout",
          "text": [
            "Collecting speedyibl\n",
            "  Downloading speedyibl-0.2.3-py3-none-any.whl (13 kB)\n",
            "Requirement already satisfied: setuptools>=42 in /usr/local/lib/python3.10/dist-packages (from speedyibl) (67.7.2)\n",
            "Requirement already satisfied: wheel in /usr/local/lib/python3.10/dist-packages (from speedyibl) (0.41.2)\n",
            "Requirement already satisfied: numpy in /usr/local/lib/python3.10/dist-packages (from speedyibl) (1.23.5)\n",
            "Requirement already satisfied: tabulate in /usr/local/lib/python3.10/dist-packages (from speedyibl) (0.9.0)\n",
            "Installing collected packages: speedyibl\n",
            "Successfully installed speedyibl-0.2.3\n"
          ]
        }
      ],
      "source": [
        "%pip install -U speedyibl"
      ]
    },
    {
      "cell_type": "markdown",
      "metadata": {
        "id": "NhZtS6b27q10"
      },
      "source": [
        "# Importing and describing the class Agent of SpeedyIBL\n",
        "\n",
        "After installing the library, we need to import the class Agent of SpeedyIBL by typing:"
      ]
    },
    {
      "cell_type": "code",
      "execution_count": 2,
      "metadata": {
        "id": "HLFaqntU7q10"
      },
      "outputs": [],
      "source": [
        "from speedyibl import Agent"
      ]
    },
    {
      "cell_type": "markdown",
      "metadata": {
        "id": "j7ISA1Kc7q10"
      },
      "source": [
        "We provide the descriptions of the inputs and main functions of the class Agent in the following tables.\n",
        "\n",
        "```markdown\n",
        "Inputs         | Type          | Description\n",
        "---------------|---------------|-------------------------------------------------------\n",
        "default_utility | float         | initial utility value for each instance, default = 0.1\n",
        "noise          | float         | noise parameter sigma, default  = 0.25\n",
        "decay          | float         |  decay paremeter d, default = 0.5\n",
        "mismatchPenalty| None or float | mismatch penalty parameter, default = None (without partial matching process)\n",
        "lendeque       | None or int   | maximum size of a deque for each instance that contains\n",
        "                                 timestamps or  None if unbounded, default = 250000\n",
        "------------------------------------------------------------------------------------------\n",
        "\n",
        "Inputs               | Type                      | Description\n",
        "---------------------|---------------------------|-----------------------------------------\n",
        "choose               | list of options           | choose one option from the given list of options\n",
        "respond              | reward                    | add the current timestamp to the instance\n",
        "                                                   of the last option and this reward\n",
        "prepopulate          | option, reward            | initialize time 0 for the instance of this option and reward\n",
        "populate_at          | option, reward, time      | add time to the instance of this option and reward\n",
        "equal_delay_feedback | reward, list of instances | update instances in the list by using this reward\n",
        "instances            | no input                  | show all the instances in the memory\n",
        "CompActivation       | time, option, base        | compute activation of an option at time t\n",
        "CompProbability      | time, option, base        | compute probabilities of an option at time t\n",
        "CompBlended          | time, options, base       | compute blended values of options at time t\n",
        "-------------------------------------------------------------------------------------------\n",
        "\n",
        "```"
      ]
    }
  ],
  "metadata": {
    "language_info": {
      "name": "python"
    },
    "orig_nbformat": 4,
    "colab": {
      "provenance": [],
      "include_colab_link": true
    },
    "kernelspec": {
      "name": "python3",
      "display_name": "Python 3"
    }
  },
  "nbformat": 4,
  "nbformat_minor": 0
}